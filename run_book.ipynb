{
 "cells": [
  {
   "cell_type": "markdown",
   "metadata": {},
   "source": [
    "# Run the Setup"
   ]
  },
  {
   "cell_type": "markdown",
   "metadata": {},
   "source": [
    "It's assumed that you have conda installed, if not, you can install it from [here](https://docs.conda.io/projects/conda/en/latest/user-guide/install/index.html)"
   ]
  },
  {
   "cell_type": "markdown",
   "metadata": {},
   "source": [
    "Now, run the setup.sh"
   ]
  },
  {
   "cell_type": "code",
   "execution_count": null,
   "metadata": {
    "vscode": {
     "languageId": "bat"
    }
   },
   "outputs": [],
   "source": [
    "!bash ./setup.sh"
   ]
  },
  {
   "cell_type": "markdown",
   "metadata": {},
   "source": [
    "Now, you can should have a GovCom conda environment. You can, then, run the following bash commands by changing the Kernel of the current notebook to that environment. You need to change the experiment based on the simulation environment you want to run. llm.path specifies the model you want to use and is_api specifies whether you want to use the API or not. For local model, you can set is_api to false, for API models you can set it to true."
   ]
  },
  {
   "cell_type": "code",
   "execution_count": null,
   "metadata": {},
   "outputs": [],
   "source": [
    "!python3 -m simulation.main experiment=<fish_baseline_concurrent> llm.path=<path_to_llm> llm.is_api=<bool>"
   ]
  }
 ],
 "metadata": {
  "kernelspec": {
   "display_name": "GovCom",
   "language": "python",
   "name": "python3"
  },
  "language_info": {
   "codemirror_mode": {
    "name": "ipython",
    "version": 3
   },
   "file_extension": ".py",
   "mimetype": "text/x-python",
   "name": "python",
   "nbconvert_exporter": "python",
   "pygments_lexer": "ipython3",
   "version": "3.11.5"
  }
 },
 "nbformat": 4,
 "nbformat_minor": 2
}
