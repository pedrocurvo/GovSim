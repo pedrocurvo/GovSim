{
 "cells": [
  {
   "cell_type": "markdown",
   "metadata": {},
   "source": [
    "# Setup"
   ]
  },
  {
   "cell_type": "markdown",
   "metadata": {},
   "source": [
    "It's assumed that you have conda installed, if not, you can install it from [here](https://docs.conda.io/projects/conda/en/latest/user-guide/install/index.html)"
   ]
  },
  {
   "cell_type": "markdown",
   "metadata": {},
   "source": [
    "Now, to create the environment we simplified the process by creating a `environment.yml` file that contains all the dependencies needed to run the code. You can create the environment by running the following command:"
   ]
  },
  {
   "cell_type": "code",
   "execution_count": null,
   "metadata": {
    "vscode": {
     "languageId": "bat"
    }
   },
   "outputs": [],
   "source": [
    "!conda env create -f environment.yml"
   ]
  },
  {
   "cell_type": "markdown",
   "metadata": {},
   "source": [
    "If this does not work, you can run the following command:"
   ]
  },
  {
   "cell_type": "code",
   "execution_count": null,
   "metadata": {
    "vscode": {
     "languageId": "bat"
    }
   },
   "outputs": [],
   "source": [
    "!bash ./setup.sh"
   ]
  },
  {
   "cell_type": "markdown",
   "metadata": {},
   "source": [
    "With this, you should have an environment called GovSim created. You can activate it by running:"
   ]
  },
  {
   "cell_type": "code",
   "execution_count": null,
   "metadata": {
    "vscode": {
     "languageId": "bat"
    }
   },
   "outputs": [],
   "source": [
    "!conda activate GovSim"
   ]
  },
  {
   "cell_type": "markdown",
   "metadata": {},
   "source": [
    "Now, you need to rename the ``ènv_example`` file to ``.env`` and fill it API keys. For closed weights models, you can fill each key with your values. It's important to notice that for open weights models, you need to fill the HuggingFace token in order to download the models. You may need to create an account in HuggingFace to get the token and agree with the terms of use of some models."
   ]
  },
  {
   "cell_type": "markdown",
   "metadata": {},
   "source": [
    "You should also create a ```wandb``` account to have access to the metrics and logs of the models. You can create an account [here](https://wandb.ai/site)."
   ]
  },
  {
   "cell_type": "markdown",
   "metadata": {},
   "source": [
    "The first time you run an experiment you will be prompted to login to wandb and also to huggingface. You can do this by following the instructions in the terminal. It's is recomendaded to run the experiments in the command line and not in a notebook as this configuration of accounts might not work in a notebook. You can also login outside the notebook and run the experiments after that."
   ]
  },
  {
   "cell_type": "markdown",
   "metadata": {},
   "source": [
    "## Running the experiments"
   ]
  },
  {
   "cell_type": "markdown",
   "metadata": {},
   "source": [
    "By running the command below you can run the simulations for the models. The command will run the experiments for the models and save the results in the `results` folder. The ``experiment`` parameter is the ID of the experiment you want to run. The experiments we conducted are the following:\n",
    "- fish_baseline_concurrent\n",
    "- fish_baseline_concurrent_universalization\n",
    "- trash_baseline_concurrent\n",
    "- fish_baseline_concurrent_japanese\n",
    "\n",
    "More are included in the original paper.\n",
    "\n",
    "```llm.path```is the identifier of the model you want to use, you can check our Paper for the API identifiers of the models we used. The models are available in the HuggingFace repository.\n",
    "\n",
    "```llm.is_api```indicates if a model is API-based or locally run. The possible values are ```true```and ```false```\n",
    "\n",
    "For more parameters, you can check the ```simulation/conf/config.yaml``` file."
   ]
  },
  {
   "cell_type": "code",
   "execution_count": null,
   "metadata": {},
   "outputs": [],
   "source": [
    "!python3 -m simulation.main experiment=<experiment_id> llm.path=<path_to_llm> llm.is_api=<bool>"
   ]
  },
  {
   "cell_type": "markdown",
   "metadata": {},
   "source": [
    "## MultiGov\n",
    "\n",
    "For the MultiGov model, you can the command below, but first you need to change the ``simulation/conf/multiple_llm.yaml`` to specify each model you want to use in the simulation. The parameters are the same as the ones used in the previous command."
   ]
  },
  {
   "cell_type": "code",
   "execution_count": null,
   "metadata": {},
   "outputs": [],
   "source": [
    "!python3 -m simulation.main --config-name=multiple_llm experiment=<experiment_id>"
   ]
  }
 ],
 "metadata": {
  "kernelspec": {
   "display_name": "GovCom",
   "language": "python",
   "name": "python3"
  },
  "language_info": {
   "codemirror_mode": {
    "name": "ipython",
    "version": 3
   },
   "file_extension": ".py",
   "mimetype": "text/x-python",
   "name": "python",
   "nbconvert_exporter": "python",
   "pygments_lexer": "ipython3",
   "version": "3.11.5"
  }
 },
 "nbformat": 4,
 "nbformat_minor": 2
}
